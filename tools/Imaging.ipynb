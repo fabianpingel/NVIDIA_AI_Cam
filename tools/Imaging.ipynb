{
 "cells": [
  {
   "cell_type": "markdown",
   "metadata": {},
   "source": [
    "## Kamerabild laden"
   ]
  },
  {
   "cell_type": "code",
   "execution_count": 80,
   "metadata": {},
   "outputs": [],
   "source": [
    "import pypylon.pylon as py\n",
    "\n",
    "tlf = py.TlFactory.GetInstance()\n",
    "cam = py.InstantCamera(tlf.CreateFirstDevice(py.DeviceInfo())) \n",
    "\n",
    "cam.Open()\n",
    "cam.UserSetSelector.SetValue(cam.UserSetDefault.Value)\n",
    "cam.UserSetLoad.Execute()\n",
    "\n",
    "# Kameraeinstellungen konfigurieren (z.B. Auflösung, Belichtungszeit usw.)\n",
    "cam.PixelFormat.Value = \"BGR8\"\n",
    "cam.ExposureTime.Value = 15000  # Belichtungszeit (in Mikrosekunden)\n",
    "cam.LightSourcePreset.Value = \"Daylight5000K\" # RGB Balance Ausgleich\n",
    "cam.AcquisitionFrameRateEnable.SetValue(True)\n",
    "cam.Width.Value = cam.Width.Max  # 1280\n",
    "cam.Height.Value = 960 \n",
    "cam.CenterX.SetValue(True)\n",
    "cam.CenterY.SetValue(True)\n",
    "\n",
    "# Kamerastream starten\n",
    "if not cam.IsGrabbing():\n",
    "    cam.StartGrabbing(py.GrabStrategy_LatestImageOnly)\n",
    "    # Bild von Kamera erfassen\n",
    "    grab_result = cam.RetrieveResult(5000, py.TimeoutHandling_ThrowException)\n",
    "    if grab_result.GrabSucceeded():\n",
    "        image = grab_result.Array\n",
    "        grab_result.Release()\n",
    "\n",
    "# Kamerastream stoppen und Ressourcen freigeben\n",
    "if cam.IsGrabbing():   \n",
    "    cam.StopGrabbing()\n",
    "    cam.Close()\n"
   ]
  },
  {
   "cell_type": "markdown",
   "metadata": {},
   "source": [
    "### Bild anzeigen"
   ]
  },
  {
   "cell_type": "code",
   "execution_count": 66,
   "metadata": {},
   "outputs": [],
   "source": [
    "import cv2\n",
    "import numpy as np\n",
    "\n",
    "def show_image(image: np.ndarray) -> None:\n",
    "    while True:\n",
    "        cv2.imshow('Bild', image)\n",
    "        if ( cv2.waitKey(30)  == 27 ):\n",
    "            break\n",
    "\n",
    "    cv2.destroyAllWindows()"
   ]
  },
  {
   "cell_type": "code",
   "execution_count": 91,
   "metadata": {},
   "outputs": [],
   "source": [
    "show_image(image)"
   ]
  },
  {
   "cell_type": "code",
   "execution_count": 22,
   "metadata": {},
   "outputs": [
    {
     "data": {
      "text/plain": [
       "True"
      ]
     },
     "execution_count": 22,
     "metadata": {},
     "output_type": "execute_result"
    }
   ],
   "source": [
    "#cv2.imwrite('test.jpg', image)"
   ]
  },
  {
   "cell_type": "markdown",
   "metadata": {},
   "source": [
    "### Bild Vorberarbeiten"
   ]
  },
  {
   "cell_type": "code",
   "execution_count": 82,
   "metadata": {},
   "outputs": [],
   "source": [
    "import numpy as np\n",
    "\n",
    "# Konvertieren in Graustufen (für die Kreis-Erkennung)\n",
    "gray = cv2.cvtColor(image, cv2.COLOR_BGR2GRAY)\n",
    "\n",
    "# Finde Kreise im Bild mit Hough-Transformation\n",
    "circles = cv2.HoughCircles(\n",
    "    gray, \n",
    "    cv2.HOUGH_GRADIENT, \n",
    "    dp=1.5,  # Inverser Auflösungsfaktor\n",
    "    minDist=100,  # Minimale Distanz zwischen den Zentren der Kreise\n",
    "    param1=300,  # Parameter für den Canny-Edge-Detektor (HoughCircles)\n",
    "    param2=30,   # Schwellenwert für die Kreiserkennung\n",
    "    minRadius=250,  # Minimale Kreisgröße\n",
    "    maxRadius=350   # Maximale Kreisgröße\n",
    ")\n",
    "\n",
    "# Überprüfen, ob Kreise gefunden wurden\n",
    "if circles is not None:\n",
    "    # Konvertiere die Koordinaten und den Radius in Ganzzahlen\n",
    "    circles = np.round(circles[0, :]).astype(\"int\") \n",
    "\n",
    "    # Nehme den ersten gefundenen Kreis (Annahme: es gibt nur einen Kreis)\n",
    "    (x, y, r) = circles[0]\n",
    "    \n",
    "    # Festgelegter Radius zum Zuschneiden\n",
    "    #r = 208\n",
    "    #r = 400\n",
    "\n",
    "    if False:\n",
    "        # Kreis auf Bild einzeichnen\n",
    "        cv2.circle(image, (x, y), r, (0,255,0), 4)\n",
    "\n",
    "    r = 350\n",
    "\n",
    "    # Sicherstellen, dass der Ausschnitt im Bildbereich liegt\n",
    "    if y - r >= 0 and y + r <= image.shape[0] and x - r >= 0 and x + r <= image.shape[1]:\n",
    "        # Schneide das rechteckige Stück um das Zentrum des Kreises aus\n",
    "        cropped = gray[y - r:y + r, x - r:x + r]\n",
    "else:\n",
    "    print('Keine Kreise gefunden')"
   ]
  },
  {
   "cell_type": "markdown",
   "metadata": {},
   "source": [
    "Jetzt schauen wir uns das Bild an und achtend darauf, das....\n",
    "\n",
    "\n",
    "Ansonsten muss ich folgende Parameter in der obigen Funktion anpassen:\n",
    "- maxRadius\n"
   ]
  },
  {
   "cell_type": "code",
   "execution_count": 90,
   "metadata": {},
   "outputs": [],
   "source": [
    "show_image(cropped)"
   ]
  },
  {
   "cell_type": "code",
   "execution_count": 85,
   "metadata": {},
   "outputs": [
    {
     "data": {
      "text/plain": [
       "(700, 700)"
      ]
     },
     "execution_count": 85,
     "metadata": {},
     "output_type": "execute_result"
    }
   ],
   "source": [
    "cropped.shape"
   ]
  },
  {
   "cell_type": "code",
   "execution_count": 88,
   "metadata": {},
   "outputs": [],
   "source": [
    "cropped = cv2.resize(cropped, (416, 416))"
   ]
  },
  {
   "cell_type": "code",
   "execution_count": 89,
   "metadata": {},
   "outputs": [
    {
     "data": {
      "text/plain": [
       "True"
      ]
     },
     "execution_count": 89,
     "metadata": {},
     "output_type": "execute_result"
    }
   ],
   "source": [
    "cv2.imwrite('test.jpg', cropped)"
   ]
  }
 ],
 "metadata": {
  "kernelspec": {
   "display_name": "AI_Cam_venv",
   "language": "python",
   "name": "python3"
  },
  "language_info": {
   "codemirror_mode": {
    "name": "ipython",
    "version": 3
   },
   "file_extension": ".py",
   "mimetype": "text/x-python",
   "name": "python",
   "nbconvert_exporter": "python",
   "pygments_lexer": "ipython3",
   "version": "3.10.12"
  }
 },
 "nbformat": 4,
 "nbformat_minor": 2
}
